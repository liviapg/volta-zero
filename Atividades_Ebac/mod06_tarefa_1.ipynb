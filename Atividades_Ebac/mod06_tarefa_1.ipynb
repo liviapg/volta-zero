{
 "cells": [
  {
   "cell_type": "markdown",
   "metadata": {},
   "source": [
    "# Módulo 6 tarefa 1\n",
    "\n",
    "#### 1) A base 'sinasc_RO_2019.csv' contém dados do sistema de nascidos vivos do DataSUS, cujo dicionário de dados está no arquivo 'Estrutura_SINASC_para_CD.pdf'. Carregue esses arquivos."
   ]
  },
  {
   "cell_type": "code",
   "execution_count": 1,
   "metadata": {},
   "outputs": [],
   "source": [
    "import pandas as pd\n",
    "import matplotlib.pyplot as plt\n",
    "import matplotlib.ticker as ticker\n",
    "import seaborn as sns\n",
    "#%matplotlib notebook"
   ]
  },
  {
   "cell_type": "code",
   "execution_count": 2,
   "metadata": {
    "scrolled": true
   },
   "outputs": [
    {
     "name": "stdout",
     "output_type": "stream",
     "text": [
      "(27028, 69)\n"
     ]
    },
    {
     "data": {
      "text/plain": [
       "(27028, 69)"
      ]
     },
     "execution_count": 2,
     "metadata": {},
     "output_type": "execute_result"
    }
   ],
   "source": [
    "sinasc = pd.read_csv('SINASC_RO_2019.CSV')\n",
    "print(sinasc.shape)\n",
    "sinasc.drop_duplicates().shape"
   ]
  },
  {
   "cell_type": "code",
   "execution_count": 3,
   "metadata": {},
   "outputs": [
    {
     "data": {
      "text/plain": [
       "APGAR1         96\n",
       "APGAR5        103\n",
       "SEXO            4\n",
       "GESTACAO     1232\n",
       "ESTCIVMAE     317\n",
       "CONSULTAS       0\n",
       "dtype: int64"
      ]
     },
     "execution_count": 3,
     "metadata": {},
     "output_type": "execute_result"
    }
   ],
   "source": [
    "cols = ['APGAR1','APGAR5','SEXO','GESTACAO','ESTCIVMAE','CONSULTAS']\n",
    "df = sinasc[cols].copy()\n",
    "(df\n",
    "    .isna()\n",
    "    .sum()\n",
    ")\n"
   ]
  },
  {
   "cell_type": "code",
   "execution_count": 4,
   "metadata": {},
   "outputs": [
    {
     "name": "stdout",
     "output_type": "stream",
     "text": [
      "<class 'pandas.core.frame.DataFrame'>\n",
      "RangeIndex: 27028 entries, 0 to 27027\n",
      "Data columns (total 6 columns):\n",
      " #   Column     Non-Null Count  Dtype  \n",
      "---  ------     --------------  -----  \n",
      " 0   APGAR1     26932 non-null  float64\n",
      " 1   APGAR5     26925 non-null  float64\n",
      " 2   SEXO       27024 non-null  object \n",
      " 3   GESTACAO   25796 non-null  object \n",
      " 4   ESTCIVMAE  26711 non-null  float64\n",
      " 5   CONSULTAS  27028 non-null  int64  \n",
      "dtypes: float64(3), int64(1), object(2)\n",
      "memory usage: 1.2+ MB\n"
     ]
    }
   ],
   "source": [
    "df.info()"
   ]
  },
  {
   "cell_type": "code",
   "execution_count": 5,
   "metadata": {},
   "outputs": [
    {
     "data": {
      "text/html": [
       "<div>\n",
       "<style scoped>\n",
       "    .dataframe tbody tr th:only-of-type {\n",
       "        vertical-align: middle;\n",
       "    }\n",
       "\n",
       "    .dataframe tbody tr th {\n",
       "        vertical-align: top;\n",
       "    }\n",
       "\n",
       "    .dataframe thead th {\n",
       "        text-align: right;\n",
       "    }\n",
       "</style>\n",
       "<table border=\"1\" class=\"dataframe\">\n",
       "  <thead>\n",
       "    <tr style=\"text-align: right;\">\n",
       "      <th></th>\n",
       "      <th>APGAR1</th>\n",
       "      <th>APGAR5</th>\n",
       "      <th>ESTCIVMAE</th>\n",
       "      <th>CONSULTAS</th>\n",
       "    </tr>\n",
       "  </thead>\n",
       "  <tbody>\n",
       "    <tr>\n",
       "      <th>count</th>\n",
       "      <td>26932.000000</td>\n",
       "      <td>26925.000000</td>\n",
       "      <td>26711.000000</td>\n",
       "      <td>27028.000000</td>\n",
       "    </tr>\n",
       "    <tr>\n",
       "      <th>mean</th>\n",
       "      <td>8.137457</td>\n",
       "      <td>9.179164</td>\n",
       "      <td>2.545318</td>\n",
       "      <td>3.576402</td>\n",
       "    </tr>\n",
       "    <tr>\n",
       "      <th>std</th>\n",
       "      <td>0.984925</td>\n",
       "      <td>0.790574</td>\n",
       "      <td>1.671248</td>\n",
       "      <td>0.788492</td>\n",
       "    </tr>\n",
       "    <tr>\n",
       "      <th>min</th>\n",
       "      <td>0.000000</td>\n",
       "      <td>0.000000</td>\n",
       "      <td>1.000000</td>\n",
       "      <td>1.000000</td>\n",
       "    </tr>\n",
       "    <tr>\n",
       "      <th>25%</th>\n",
       "      <td>8.000000</td>\n",
       "      <td>9.000000</td>\n",
       "      <td>1.000000</td>\n",
       "      <td>3.000000</td>\n",
       "    </tr>\n",
       "    <tr>\n",
       "      <th>50%</th>\n",
       "      <td>8.000000</td>\n",
       "      <td>9.000000</td>\n",
       "      <td>2.000000</td>\n",
       "      <td>4.000000</td>\n",
       "    </tr>\n",
       "    <tr>\n",
       "      <th>75%</th>\n",
       "      <td>9.000000</td>\n",
       "      <td>10.000000</td>\n",
       "      <td>5.000000</td>\n",
       "      <td>4.000000</td>\n",
       "    </tr>\n",
       "    <tr>\n",
       "      <th>max</th>\n",
       "      <td>10.000000</td>\n",
       "      <td>10.000000</td>\n",
       "      <td>9.000000</td>\n",
       "      <td>9.000000</td>\n",
       "    </tr>\n",
       "  </tbody>\n",
       "</table>\n",
       "</div>"
      ],
      "text/plain": [
       "             APGAR1        APGAR5     ESTCIVMAE     CONSULTAS\n",
       "count  26932.000000  26925.000000  26711.000000  27028.000000\n",
       "mean       8.137457      9.179164      2.545318      3.576402\n",
       "std        0.984925      0.790574      1.671248      0.788492\n",
       "min        0.000000      0.000000      1.000000      1.000000\n",
       "25%        8.000000      9.000000      1.000000      3.000000\n",
       "50%        8.000000      9.000000      2.000000      4.000000\n",
       "75%        9.000000     10.000000      5.000000      4.000000\n",
       "max       10.000000     10.000000      9.000000      9.000000"
      ]
     },
     "execution_count": 5,
     "metadata": {},
     "output_type": "execute_result"
    }
   ],
   "source": [
    "df.describe()"
   ]
  },
  {
   "cell_type": "code",
   "execution_count": 6,
   "metadata": {
    "scrolled": false
   },
   "outputs": [
    {
     "data": {
      "text/html": [
       "<div>\n",
       "<style scoped>\n",
       "    .dataframe tbody tr th:only-of-type {\n",
       "        vertical-align: middle;\n",
       "    }\n",
       "\n",
       "    .dataframe tbody tr th {\n",
       "        vertical-align: top;\n",
       "    }\n",
       "\n",
       "    .dataframe thead th {\n",
       "        text-align: right;\n",
       "    }\n",
       "</style>\n",
       "<table border=\"1\" class=\"dataframe\">\n",
       "  <thead>\n",
       "    <tr style=\"text-align: right;\">\n",
       "      <th></th>\n",
       "      <th>APGAR1</th>\n",
       "      <th>APGAR5</th>\n",
       "      <th>SEXO</th>\n",
       "      <th>GESTACAO</th>\n",
       "      <th>ESTCIVMAE</th>\n",
       "      <th>CONSULTAS</th>\n",
       "    </tr>\n",
       "  </thead>\n",
       "  <tbody>\n",
       "    <tr>\n",
       "      <th>62</th>\n",
       "      <td>8.0</td>\n",
       "      <td>9.0</td>\n",
       "      <td>Feminino</td>\n",
       "      <td>37 a 41 semanas</td>\n",
       "      <td>NaN</td>\n",
       "      <td>4</td>\n",
       "    </tr>\n",
       "    <tr>\n",
       "      <th>68</th>\n",
       "      <td>9.0</td>\n",
       "      <td>9.0</td>\n",
       "      <td>Masculino</td>\n",
       "      <td>37 a 41 semanas</td>\n",
       "      <td>NaN</td>\n",
       "      <td>4</td>\n",
       "    </tr>\n",
       "    <tr>\n",
       "      <th>95</th>\n",
       "      <td>7.0</td>\n",
       "      <td>8.0</td>\n",
       "      <td>Masculino</td>\n",
       "      <td>37 a 41 semanas</td>\n",
       "      <td>NaN</td>\n",
       "      <td>4</td>\n",
       "    </tr>\n",
       "    <tr>\n",
       "      <th>113</th>\n",
       "      <td>10.0</td>\n",
       "      <td>10.0</td>\n",
       "      <td>Feminino</td>\n",
       "      <td>37 a 41 semanas</td>\n",
       "      <td>NaN</td>\n",
       "      <td>4</td>\n",
       "    </tr>\n",
       "    <tr>\n",
       "      <th>116</th>\n",
       "      <td>8.0</td>\n",
       "      <td>9.0</td>\n",
       "      <td>Masculino</td>\n",
       "      <td>37 a 41 semanas</td>\n",
       "      <td>NaN</td>\n",
       "      <td>3</td>\n",
       "    </tr>\n",
       "    <tr>\n",
       "      <th>...</th>\n",
       "      <td>...</td>\n",
       "      <td>...</td>\n",
       "      <td>...</td>\n",
       "      <td>...</td>\n",
       "      <td>...</td>\n",
       "      <td>...</td>\n",
       "    </tr>\n",
       "    <tr>\n",
       "      <th>26911</th>\n",
       "      <td>9.0</td>\n",
       "      <td>10.0</td>\n",
       "      <td>Masculino</td>\n",
       "      <td>37 a 41 semanas</td>\n",
       "      <td>NaN</td>\n",
       "      <td>4</td>\n",
       "    </tr>\n",
       "    <tr>\n",
       "      <th>26923</th>\n",
       "      <td>NaN</td>\n",
       "      <td>NaN</td>\n",
       "      <td>Feminino</td>\n",
       "      <td>32 a 36 semanas</td>\n",
       "      <td>5.0</td>\n",
       "      <td>3</td>\n",
       "    </tr>\n",
       "    <tr>\n",
       "      <th>26935</th>\n",
       "      <td>NaN</td>\n",
       "      <td>NaN</td>\n",
       "      <td>Masculino</td>\n",
       "      <td>37 a 41 semanas</td>\n",
       "      <td>5.0</td>\n",
       "      <td>3</td>\n",
       "    </tr>\n",
       "    <tr>\n",
       "      <th>26946</th>\n",
       "      <td>8.0</td>\n",
       "      <td>9.0</td>\n",
       "      <td>Masculino</td>\n",
       "      <td>37 a 41 semanas</td>\n",
       "      <td>NaN</td>\n",
       "      <td>3</td>\n",
       "    </tr>\n",
       "    <tr>\n",
       "      <th>26953</th>\n",
       "      <td>8.0</td>\n",
       "      <td>9.0</td>\n",
       "      <td>Masculino</td>\n",
       "      <td>37 a 41 semanas</td>\n",
       "      <td>NaN</td>\n",
       "      <td>3</td>\n",
       "    </tr>\n",
       "  </tbody>\n",
       "</table>\n",
       "<p>1619 rows × 6 columns</p>\n",
       "</div>"
      ],
      "text/plain": [
       "       APGAR1  APGAR5       SEXO         GESTACAO  ESTCIVMAE  CONSULTAS\n",
       "62        8.0     9.0   Feminino  37 a 41 semanas        NaN          4\n",
       "68        9.0     9.0  Masculino  37 a 41 semanas        NaN          4\n",
       "95        7.0     8.0  Masculino  37 a 41 semanas        NaN          4\n",
       "113      10.0    10.0   Feminino  37 a 41 semanas        NaN          4\n",
       "116       8.0     9.0  Masculino  37 a 41 semanas        NaN          3\n",
       "...       ...     ...        ...              ...        ...        ...\n",
       "26911     9.0    10.0  Masculino  37 a 41 semanas        NaN          4\n",
       "26923     NaN     NaN   Feminino  32 a 36 semanas        5.0          3\n",
       "26935     NaN     NaN  Masculino  37 a 41 semanas        5.0          3\n",
       "26946     8.0     9.0  Masculino  37 a 41 semanas        NaN          3\n",
       "26953     8.0     9.0  Masculino  37 a 41 semanas        NaN          3\n",
       "\n",
       "[1619 rows x 6 columns]"
      ]
     },
     "execution_count": 6,
     "metadata": {},
     "output_type": "execute_result"
    }
   ],
   "source": [
    "df.loc[df.isna().any(axis=1)]"
   ]
  },
  {
   "cell_type": "code",
   "execution_count": 7,
   "metadata": {},
   "outputs": [
    {
     "name": "stdout",
     "output_type": "stream",
     "text": [
      "Antes de preencher nulos com mediana\n"
     ]
    },
    {
     "data": {
      "text/plain": [
       "APGAR1\n",
       "1.0        28\n",
       "0.0        30\n",
       "2.0        72\n",
       "NaN        96\n",
       "3.0       101\n",
       "4.0       116\n",
       "10.0      232\n",
       "5.0       260\n",
       "6.0       550\n",
       "7.0      1973\n",
       "9.0      8928\n",
       "8.0     14642\n",
       "Name: count, dtype: int64"
      ]
     },
     "metadata": {},
     "output_type": "display_data"
    },
    {
     "name": "stdout",
     "output_type": "stream",
     "text": [
      "\n",
      "Depois de preencher nulos com mediana\n"
     ]
    },
    {
     "data": {
      "text/plain": [
       "APGAR1\n",
       "1.0        28\n",
       "0.0        30\n",
       "2.0        72\n",
       "3.0       101\n",
       "4.0       116\n",
       "10.0      232\n",
       "5.0       260\n",
       "6.0       550\n",
       "7.0      1973\n",
       "9.0      8928\n",
       "8.0     14738\n",
       "Name: count, dtype: int64"
      ]
     },
     "metadata": {},
     "output_type": "display_data"
    }
   ],
   "source": [
    "print('Antes de preencher nulos com mediana')\n",
    "display(df['APGAR1']\n",
    "    .value_counts(dropna=False)\n",
    "    .sort_values()\n",
    ")\n",
    "\n",
    "print()\n",
    "mediana_ap1 = df['APGAR1'].median()\n",
    "df['APGAR1'] = df['APGAR1'].fillna(mediana_ap1)\n",
    "\n",
    "print('Depois de preencher nulos com mediana')\n",
    "display(df['APGAR1']\n",
    "    .value_counts(dropna=False)\n",
    "    .sort_values()\n",
    ")"
   ]
  },
  {
   "cell_type": "code",
   "execution_count": 8,
   "metadata": {
    "scrolled": false
   },
   "outputs": [
    {
     "name": "stdout",
     "output_type": "stream",
     "text": [
      "Antes de preencher nulos com mediana\n"
     ]
    },
    {
     "data": {
      "text/plain": [
       "APGAR5\n",
       "3.0        15\n",
       "0.0        17\n",
       "2.0        18\n",
       "4.0        23\n",
       "1.0        24\n",
       "5.0        45\n",
       "6.0        79\n",
       "NaN       103\n",
       "7.0       241\n",
       "8.0      1994\n",
       "10.0     8393\n",
       "9.0     16076\n",
       "Name: count, dtype: int64"
      ]
     },
     "metadata": {},
     "output_type": "display_data"
    },
    {
     "name": "stdout",
     "output_type": "stream",
     "text": [
      "\n",
      "Depois de preencher nulos com mediana\n"
     ]
    },
    {
     "data": {
      "text/plain": [
       "APGAR5\n",
       "3.0        15\n",
       "0.0        17\n",
       "2.0        18\n",
       "4.0        23\n",
       "1.0        24\n",
       "5.0        45\n",
       "6.0        79\n",
       "7.0       241\n",
       "8.0      1994\n",
       "10.0     8393\n",
       "9.0     16179\n",
       "Name: count, dtype: int64"
      ]
     },
     "metadata": {},
     "output_type": "display_data"
    }
   ],
   "source": [
    "print('Antes de preencher nulos com mediana')\n",
    "display(df['APGAR5']\n",
    "    .value_counts(dropna=False)\n",
    "    .sort_values()\n",
    ")\n",
    "\n",
    "print()\n",
    "mediana_ap5 = df['APGAR5'].median()\n",
    "df['APGAR5'] = df['APGAR5'].fillna(mediana_ap5)\n",
    "\n",
    "print('Depois de preencher nulos com mediana')\n",
    "display(df['APGAR5']\n",
    "    .value_counts(dropna=False)\n",
    "    .sort_values()\n",
    ")"
   ]
  },
  {
   "cell_type": "code",
   "execution_count": 9,
   "metadata": {},
   "outputs": [
    {
     "data": {
      "text/plain": [
       "SEXO\n",
       "NaN          0.000148\n",
       "Feminino     0.486089\n",
       "Masculino    0.513764\n",
       "Name: proportion, dtype: float64"
      ]
     },
     "execution_count": 9,
     "metadata": {},
     "output_type": "execute_result"
    }
   ],
   "source": [
    "(df['SEXO']\n",
    "    .value_counts(normalize=True, dropna=False)\n",
    "    .sort_values()\n",
    ")"
   ]
  },
  {
   "cell_type": "code",
   "execution_count": 10,
   "metadata": {
    "scrolled": false
   },
   "outputs": [
    {
     "name": "stdout",
     "output_type": "stream",
     "text": [
      "Antes de preencher nulos probabilisticamente\n"
     ]
    },
    {
     "data": {
      "text/plain": [
       "GESTACAO\n",
       "Menos de 22 semanas        7\n",
       "22 a 27 semanas           86\n",
       "28 a 31 semanas          165\n",
       "42 semanas e mais        700\n",
       "NaN                     1232\n",
       "32 a 36 semanas         2249\n",
       "37 a 41 semanas        22589\n",
       "Name: count, dtype: int64"
      ]
     },
     "metadata": {},
     "output_type": "display_data"
    },
    {
     "name": "stdout",
     "output_type": "stream",
     "text": [
      "\n",
      "Depois de preencher nulos probabilisticamente\n"
     ]
    },
    {
     "data": {
      "text/plain": [
       "GESTACAO\n",
       "Menos de 22 semanas        7\n",
       "22 a 27 semanas           88\n",
       "28 a 31 semanas          172\n",
       "42 semanas e mais        735\n",
       "32 a 36 semanas         2352\n",
       "37 a 41 semanas        23674\n",
       "Name: count, dtype: int64"
      ]
     },
     "metadata": {},
     "output_type": "display_data"
    }
   ],
   "source": [
    "print('Antes de preencher nulos probabilisticamente')\n",
    "display(df['GESTACAO']\n",
    "    .value_counts(dropna=False)\n",
    "    .sort_values()\n",
    ")\n",
    "\n",
    "print()\n",
    "gest_nula = df['GESTACAO'].isnull()\n",
    "df.loc[gest_nula, 'GESTACAO'] = df['GESTACAO'].dropna().sample(gest_nula.sum()).values\n",
    "\n",
    "print('Depois de preencher nulos probabilisticamente')\n",
    "display(df['GESTACAO']\n",
    "    .value_counts(dropna=False)\n",
    "    .sort_values()\n",
    ")"
   ]
  },
  {
   "cell_type": "code",
   "execution_count": 11,
   "metadata": {
    "scrolled": true
   },
   "outputs": [
    {
     "data": {
      "text/plain": [
       "ESTCIVMAE\n",
       "3.0    0.002109\n",
       "9.0    0.005365\n",
       "NaN    0.011729\n",
       "4.0    0.016760\n",
       "5.0    0.265650\n",
       "1.0    0.331212\n",
       "2.0    0.367175\n",
       "Name: proportion, dtype: float64"
      ]
     },
     "execution_count": 11,
     "metadata": {},
     "output_type": "execute_result"
    }
   ],
   "source": [
    "(df['ESTCIVMAE']\n",
    "    .value_counts(normalize=True, dropna=False)\n",
    "    .sort_values()\n",
    ")"
   ]
  },
  {
   "cell_type": "code",
   "execution_count": 12,
   "metadata": {},
   "outputs": [
    {
     "data": {
      "text/plain": [
       "CONSULTAS\n",
       "9    0.001887\n",
       "1    0.036481\n",
       "2    0.051021\n",
       "3    0.221548\n",
       "4    0.689063\n",
       "Name: proportion, dtype: float64"
      ]
     },
     "execution_count": 12,
     "metadata": {},
     "output_type": "execute_result"
    }
   ],
   "source": [
    "(df['CONSULTAS']\n",
    "    .value_counts(normalize=True, dropna=False)\n",
    "    .sort_values()\n",
    ")"
   ]
  },
  {
   "cell_type": "markdown",
   "metadata": {},
   "source": [
    "####  2) Monte um gráficos de barras com as variáveis APGAR1, APGAR5, SEXO, GESTACAO, ESTCIVMAE."
   ]
  },
  {
   "cell_type": "code",
   "execution_count": 13,
   "metadata": {},
   "outputs": [],
   "source": [
    "est_civ_cat = {\n",
    "    1:'Solteira',\n",
    "    2:'Casada',\n",
    "    3:'Viúva',\n",
    "    4:'Separada\\njudicialmente/\\nDivorciada',\n",
    "    5:'Erro\\nde\\npreenchimento',\n",
    "    9:'Ignorado'\n",
    "}"
   ]
  },
  {
   "cell_type": "code",
   "execution_count": 14,
   "metadata": {},
   "outputs": [],
   "source": [
    "df['ESTCIVMAE'] = df['ESTCIVMAE'].map(est_civ_cat)"
   ]
  },
  {
   "cell_type": "code",
   "execution_count": 15,
   "metadata": {},
   "outputs": [
    {
     "data": {
      "text/html": [
       "<div>\n",
       "<style scoped>\n",
       "    .dataframe tbody tr th:only-of-type {\n",
       "        vertical-align: middle;\n",
       "    }\n",
       "\n",
       "    .dataframe tbody tr th {\n",
       "        vertical-align: top;\n",
       "    }\n",
       "\n",
       "    .dataframe thead th {\n",
       "        text-align: right;\n",
       "    }\n",
       "</style>\n",
       "<table border=\"1\" class=\"dataframe\">\n",
       "  <thead>\n",
       "    <tr style=\"text-align: right;\">\n",
       "      <th></th>\n",
       "      <th>APGAR1</th>\n",
       "      <th>APGAR5</th>\n",
       "      <th>SEXO</th>\n",
       "      <th>GESTACAO</th>\n",
       "      <th>ESTCIVMAE</th>\n",
       "      <th>CONSULTAS</th>\n",
       "    </tr>\n",
       "  </thead>\n",
       "  <tbody>\n",
       "    <tr>\n",
       "      <th>0</th>\n",
       "      <td>9.0</td>\n",
       "      <td>10.0</td>\n",
       "      <td>Masculino</td>\n",
       "      <td>37 a 41 semanas</td>\n",
       "      <td>Erro\\nde\\npreenchimento</td>\n",
       "      <td>4</td>\n",
       "    </tr>\n",
       "    <tr>\n",
       "      <th>1</th>\n",
       "      <td>8.0</td>\n",
       "      <td>9.0</td>\n",
       "      <td>Feminino</td>\n",
       "      <td>37 a 41 semanas</td>\n",
       "      <td>Casada</td>\n",
       "      <td>4</td>\n",
       "    </tr>\n",
       "    <tr>\n",
       "      <th>2</th>\n",
       "      <td>8.0</td>\n",
       "      <td>10.0</td>\n",
       "      <td>Feminino</td>\n",
       "      <td>37 a 41 semanas</td>\n",
       "      <td>Ignorado</td>\n",
       "      <td>4</td>\n",
       "    </tr>\n",
       "    <tr>\n",
       "      <th>3</th>\n",
       "      <td>9.0</td>\n",
       "      <td>10.0</td>\n",
       "      <td>Feminino</td>\n",
       "      <td>37 a 41 semanas</td>\n",
       "      <td>Erro\\nde\\npreenchimento</td>\n",
       "      <td>3</td>\n",
       "    </tr>\n",
       "    <tr>\n",
       "      <th>4</th>\n",
       "      <td>8.0</td>\n",
       "      <td>10.0</td>\n",
       "      <td>Feminino</td>\n",
       "      <td>37 a 41 semanas</td>\n",
       "      <td>Casada</td>\n",
       "      <td>4</td>\n",
       "    </tr>\n",
       "    <tr>\n",
       "      <th>...</th>\n",
       "      <td>...</td>\n",
       "      <td>...</td>\n",
       "      <td>...</td>\n",
       "      <td>...</td>\n",
       "      <td>...</td>\n",
       "      <td>...</td>\n",
       "    </tr>\n",
       "    <tr>\n",
       "      <th>27023</th>\n",
       "      <td>8.0</td>\n",
       "      <td>9.0</td>\n",
       "      <td>Masculino</td>\n",
       "      <td>32 a 36 semanas</td>\n",
       "      <td>Casada</td>\n",
       "      <td>4</td>\n",
       "    </tr>\n",
       "    <tr>\n",
       "      <th>27024</th>\n",
       "      <td>8.0</td>\n",
       "      <td>9.0</td>\n",
       "      <td>Masculino</td>\n",
       "      <td>37 a 41 semanas</td>\n",
       "      <td>Solteira</td>\n",
       "      <td>4</td>\n",
       "    </tr>\n",
       "    <tr>\n",
       "      <th>27025</th>\n",
       "      <td>9.0</td>\n",
       "      <td>10.0</td>\n",
       "      <td>Masculino</td>\n",
       "      <td>37 a 41 semanas</td>\n",
       "      <td>Casada</td>\n",
       "      <td>4</td>\n",
       "    </tr>\n",
       "    <tr>\n",
       "      <th>27026</th>\n",
       "      <td>8.0</td>\n",
       "      <td>9.0</td>\n",
       "      <td>Masculino</td>\n",
       "      <td>32 a 36 semanas</td>\n",
       "      <td>Casada</td>\n",
       "      <td>4</td>\n",
       "    </tr>\n",
       "    <tr>\n",
       "      <th>27027</th>\n",
       "      <td>7.0</td>\n",
       "      <td>8.0</td>\n",
       "      <td>Masculino</td>\n",
       "      <td>37 a 41 semanas</td>\n",
       "      <td>Erro\\nde\\npreenchimento</td>\n",
       "      <td>4</td>\n",
       "    </tr>\n",
       "  </tbody>\n",
       "</table>\n",
       "<p>27028 rows × 6 columns</p>\n",
       "</div>"
      ],
      "text/plain": [
       "       APGAR1  APGAR5       SEXO         GESTACAO                ESTCIVMAE  \\\n",
       "0         9.0    10.0  Masculino  37 a 41 semanas  Erro\\nde\\npreenchimento   \n",
       "1         8.0     9.0   Feminino  37 a 41 semanas                   Casada   \n",
       "2         8.0    10.0   Feminino  37 a 41 semanas                 Ignorado   \n",
       "3         9.0    10.0   Feminino  37 a 41 semanas  Erro\\nde\\npreenchimento   \n",
       "4         8.0    10.0   Feminino  37 a 41 semanas                   Casada   \n",
       "...       ...     ...        ...              ...                      ...   \n",
       "27023     8.0     9.0  Masculino  32 a 36 semanas                   Casada   \n",
       "27024     8.0     9.0  Masculino  37 a 41 semanas                 Solteira   \n",
       "27025     9.0    10.0  Masculino  37 a 41 semanas                   Casada   \n",
       "27026     8.0     9.0  Masculino  32 a 36 semanas                   Casada   \n",
       "27027     7.0     8.0  Masculino  37 a 41 semanas  Erro\\nde\\npreenchimento   \n",
       "\n",
       "       CONSULTAS  \n",
       "0              4  \n",
       "1              4  \n",
       "2              4  \n",
       "3              3  \n",
       "4              4  \n",
       "...          ...  \n",
       "27023          4  \n",
       "27024          4  \n",
       "27025          4  \n",
       "27026          4  \n",
       "27027          4  \n",
       "\n",
       "[27028 rows x 6 columns]"
      ]
     },
     "execution_count": 15,
     "metadata": {},
     "output_type": "execute_result"
    }
   ],
   "source": [
    "df"
   ]
  },
  {
   "cell_type": "code",
   "execution_count": 16,
   "metadata": {},
   "outputs": [],
   "source": [
    "ord_ecm = [\n",
    "    'Solteira',\n",
    "    'Casada',\n",
    "    'Separada\\njudicialmente/\\nDivorciada',\n",
    "    'Viúva',\n",
    "    'Ignorado',\n",
    "    'Erro\\nde\\npreenchimento'\n",
    "]\n",
    "ord_gest = [\n",
    "    'Menos de 22 semanas',\n",
    "    '22 a 27 semanas',\n",
    "    '28 a 31 semanas',\n",
    "    '32 a 36 semanas',\n",
    "    '37 a 41 semanas',\n",
    "    '42 semanas e mais'\n",
    "]\n",
    "ord_consultas = [\n",
    "    'Nenhuma',\n",
    "    '1 a 3',\n",
    "    '4 a 6',\n",
    "    '7 e mais',\n",
    "    'Ignorado'\n",
    "]"
   ]
  },
  {
   "cell_type": "code",
   "execution_count": 17,
   "metadata": {
    "scrolled": false
   },
   "outputs": [
    {
     "data": {
      "image/png": "[encoded data removed]",
      "text/plain": [
       "<Figure size 1000x1200 with 6 Axes>"
      ]
     },
     "metadata": {},
     "output_type": "display_data"
    }
   ],
   "source": [
    "plt.rc('figure', figsize=(10, 12))\n",
    "fig, axes = plt.subplots(3, 2)\n",
    "\n",
    "for i, apgar in enumerate(['APGAR1', 'APGAR5']):\n",
    "    ecvm_plot = sns.barplot(ax=axes[0, i], x='ESTCIVMAE', y=apgar, estimator='mean', data=df, order=ord_ecm)\n",
    "    sexo_plot = sns.barplot(ax=axes[1, i], x='SEXO', y=apgar, estimator='mean', data=df)\n",
    "    gest_plot = sns.barplot(ax=axes[2, i], x='GESTACAO', y=apgar, estimator='mean', data=df, order=ord_gest)\n",
    "\n",
    "    ecvm_plot.set(title=f'Estado civil da mãe vs Apgar {apgar[-1]}', xlabel=None, ylabel=None)\n",
    "    sexo_plot.set(title=f'Sexo do bebê vs Apgar {apgar[-1]}', xlabel=None, ylabel=None)\n",
    "    gest_plot.set(title=f'Tempo de gestação vs Apgar {apgar[-1]}', xlabel=None, ylabel=None)\n",
    "\n",
    "    ecvm_plot.tick_params(axis='x', direction='out', labelrotation=30, labelsize=7)\n",
    "    gest_plot.tick_params(axis='x', direction='out', labelrotation=30, labelsize=7)\n",
    "\n",
    "plt.subplots_adjust(hspace=0.5, wspace=0.4)"
   ]
  },
  {
   "cell_type": "markdown",
   "metadata": {},
   "source": [
    "#### 3) Monte um gráfico de barras mostrando o APGAR5 médio por CONSULTAS"
   ]
  },
  {
   "cell_type": "code",
   "execution_count": 18,
   "metadata": {},
   "outputs": [],
   "source": [
    "consultas_cat = {\n",
    "    1:'Nenhuma',\n",
    "    2:'1 a 3',\n",
    "    3:'4 a 6',\n",
    "    4:'7 e mais',\n",
    "    9:'Ignorado'\n",
    "}"
   ]
  },
  {
   "cell_type": "code",
   "execution_count": 19,
   "metadata": {},
   "outputs": [],
   "source": [
    "df['CONSULTAS'] = df['CONSULTAS'].replace(consultas_cat)"
   ]
  },
  {
   "cell_type": "code",
   "execution_count": 20,
   "metadata": {},
   "outputs": [
    {
     "data": {
      "text/html": [
       "<div>\n",
       "<style scoped>\n",
       "    .dataframe tbody tr th:only-of-type {\n",
       "        vertical-align: middle;\n",
       "    }\n",
       "\n",
       "    .dataframe tbody tr th {\n",
       "        vertical-align: top;\n",
       "    }\n",
       "\n",
       "    .dataframe thead th {\n",
       "        text-align: right;\n",
       "    }\n",
       "</style>\n",
       "<table border=\"1\" class=\"dataframe\">\n",
       "  <thead>\n",
       "    <tr style=\"text-align: right;\">\n",
       "      <th></th>\n",
       "      <th>APGAR1</th>\n",
       "      <th>APGAR5</th>\n",
       "      <th>SEXO</th>\n",
       "      <th>GESTACAO</th>\n",
       "      <th>ESTCIVMAE</th>\n",
       "      <th>CONSULTAS</th>\n",
       "    </tr>\n",
       "  </thead>\n",
       "  <tbody>\n",
       "    <tr>\n",
       "      <th>0</th>\n",
       "      <td>9.0</td>\n",
       "      <td>10.0</td>\n",
       "      <td>Masculino</td>\n",
       "      <td>37 a 41 semanas</td>\n",
       "      <td>Erro\\nde\\npreenchimento</td>\n",
       "      <td>7 e mais</td>\n",
       "    </tr>\n",
       "    <tr>\n",
       "      <th>1</th>\n",
       "      <td>8.0</td>\n",
       "      <td>9.0</td>\n",
       "      <td>Feminino</td>\n",
       "      <td>37 a 41 semanas</td>\n",
       "      <td>Casada</td>\n",
       "      <td>7 e mais</td>\n",
       "    </tr>\n",
       "    <tr>\n",
       "      <th>2</th>\n",
       "      <td>8.0</td>\n",
       "      <td>10.0</td>\n",
       "      <td>Feminino</td>\n",
       "      <td>37 a 41 semanas</td>\n",
       "      <td>Ignorado</td>\n",
       "      <td>7 e mais</td>\n",
       "    </tr>\n",
       "    <tr>\n",
       "      <th>3</th>\n",
       "      <td>9.0</td>\n",
       "      <td>10.0</td>\n",
       "      <td>Feminino</td>\n",
       "      <td>37 a 41 semanas</td>\n",
       "      <td>Erro\\nde\\npreenchimento</td>\n",
       "      <td>4 a 6</td>\n",
       "    </tr>\n",
       "    <tr>\n",
       "      <th>4</th>\n",
       "      <td>8.0</td>\n",
       "      <td>10.0</td>\n",
       "      <td>Feminino</td>\n",
       "      <td>37 a 41 semanas</td>\n",
       "      <td>Casada</td>\n",
       "      <td>7 e mais</td>\n",
       "    </tr>\n",
       "    <tr>\n",
       "      <th>...</th>\n",
       "      <td>...</td>\n",
       "      <td>...</td>\n",
       "      <td>...</td>\n",
       "      <td>...</td>\n",
       "      <td>...</td>\n",
       "      <td>...</td>\n",
       "    </tr>\n",
       "    <tr>\n",
       "      <th>27023</th>\n",
       "      <td>8.0</td>\n",
       "      <td>9.0</td>\n",
       "      <td>Masculino</td>\n",
       "      <td>32 a 36 semanas</td>\n",
       "      <td>Casada</td>\n",
       "      <td>7 e mais</td>\n",
       "    </tr>\n",
       "    <tr>\n",
       "      <th>27024</th>\n",
       "      <td>8.0</td>\n",
       "      <td>9.0</td>\n",
       "      <td>Masculino</td>\n",
       "      <td>37 a 41 semanas</td>\n",
       "      <td>Solteira</td>\n",
       "      <td>7 e mais</td>\n",
       "    </tr>\n",
       "    <tr>\n",
       "      <th>27025</th>\n",
       "      <td>9.0</td>\n",
       "      <td>10.0</td>\n",
       "      <td>Masculino</td>\n",
       "      <td>37 a 41 semanas</td>\n",
       "      <td>Casada</td>\n",
       "      <td>7 e mais</td>\n",
       "    </tr>\n",
       "    <tr>\n",
       "      <th>27026</th>\n",
       "      <td>8.0</td>\n",
       "      <td>9.0</td>\n",
       "      <td>Masculino</td>\n",
       "      <td>32 a 36 semanas</td>\n",
       "      <td>Casada</td>\n",
       "      <td>7 e mais</td>\n",
       "    </tr>\n",
       "    <tr>\n",
       "      <th>27027</th>\n",
       "      <td>7.0</td>\n",
       "      <td>8.0</td>\n",
       "      <td>Masculino</td>\n",
       "      <td>37 a 41 semanas</td>\n",
       "      <td>Erro\\nde\\npreenchimento</td>\n",
       "      <td>7 e mais</td>\n",
       "    </tr>\n",
       "  </tbody>\n",
       "</table>\n",
       "<p>27028 rows × 6 columns</p>\n",
       "</div>"
      ],
      "text/plain": [
       "       APGAR1  APGAR5       SEXO         GESTACAO                ESTCIVMAE  \\\n",
       "0         9.0    10.0  Masculino  37 a 41 semanas  Erro\\nde\\npreenchimento   \n",
       "1         8.0     9.0   Feminino  37 a 41 semanas                   Casada   \n",
       "2         8.0    10.0   Feminino  37 a 41 semanas                 Ignorado   \n",
       "3         9.0    10.0   Feminino  37 a 41 semanas  Erro\\nde\\npreenchimento   \n",
       "4         8.0    10.0   Feminino  37 a 41 semanas                   Casada   \n",
       "...       ...     ...        ...              ...                      ...   \n",
       "27023     8.0     9.0  Masculino  32 a 36 semanas                   Casada   \n",
       "27024     8.0     9.0  Masculino  37 a 41 semanas                 Solteira   \n",
       "27025     9.0    10.0  Masculino  37 a 41 semanas                   Casada   \n",
       "27026     8.0     9.0  Masculino  32 a 36 semanas                   Casada   \n",
       "27027     7.0     8.0  Masculino  37 a 41 semanas  Erro\\nde\\npreenchimento   \n",
       "\n",
       "      CONSULTAS  \n",
       "0      7 e mais  \n",
       "1      7 e mais  \n",
       "2      7 e mais  \n",
       "3         4 a 6  \n",
       "4      7 e mais  \n",
       "...         ...  \n",
       "27023  7 e mais  \n",
       "27024  7 e mais  \n",
       "27025  7 e mais  \n",
       "27026  7 e mais  \n",
       "27027  7 e mais  \n",
       "\n",
       "[27028 rows x 6 columns]"
      ]
     },
     "execution_count": 20,
     "metadata": {},
     "output_type": "execute_result"
    }
   ],
   "source": [
    "df"
   ]
  },
  {
   "cell_type": "code",
   "execution_count": 21,
   "metadata": {},
   "outputs": [
    {
     "data": {
      "image/png": "[encoded data removed]",
      "text/plain": [
       "<Figure size 800x400 with 1 Axes>"
      ]
     },
     "metadata": {},
     "output_type": "display_data"
    }
   ],
   "source": [
    "plt.close('all')\n",
    "plt.rc('figure', figsize=(8,4))\n",
    "\n",
    "f = sns.barplot(x='CONSULTAS', y='APGAR5', estimator='mean', data=df, order=ord_consultas)\n",
    "f.set(title='Número de consultas pré-natal vs Apgar 5')\n",
    "f.tick_params(axis='x', direction='out', labelsize=7)"
   ]
  },
  {
   "cell_type": "markdown",
   "metadata": {},
   "source": [
    "####  4) Monte um painel com 4 gráficos mostrando as frequencias de SEXO, GESTACAO, ESTCIVMAE e CONSULTAS"
   ]
  },
  {
   "cell_type": "code",
   "execution_count": 22,
   "metadata": {},
   "outputs": [
    {
     "data": {
      "image/png": "[encoded data removed]",
      "text/plain": [
       "<Figure size 1000x800 with 4 Axes>"
      ]
     },
     "metadata": {},
     "output_type": "display_data"
    }
   ],
   "source": [
    "plt.close('all')\n",
    "plt.rc('figure', figsize=(10, 8))\n",
    "fig, axes = plt.subplots(2, 2)\n",
    "\n",
    "sexo_plot = sns.countplot(ax = axes[0,0], x='SEXO',data=df)\n",
    "gest_plot = sns.countplot(ax = axes[0, 1], x='GESTACAO', data=df, order=ord_gest)\n",
    "ecvm_plot = sns.countplot(ax = axes[1, 0], x='ESTCIVMAE', data=df, order=ord_ecm)\n",
    "cons_plot = sns.countplot(ax = axes[1, 1], x='CONSULTAS', data=df, order=ord_consultas)\n",
    "\n",
    "sexo_plot.set(title='Sexo do bebê', xlabel=None, ylabel=None)\n",
    "gest_plot.set(title='Gestação', xlabel=None, ylabel=None)\n",
    "ecvm_plot.set(title='Estado civil da mãe', xlabel=None, ylabel=None)\n",
    "cons_plot.set(title='Consultas de pré-natal', xlabel=None, ylabel=None)\n",
    "\n",
    "\n",
    "gest_plot.tick_params(axis='x', direction='out', labelrotation=30, labelsize=7)\n",
    "ecvm_plot.tick_params(axis='x', direction='out', labelrotation=30, labelsize=7)\n",
    "cons_plot.tick_params(axis='x', direction='out', labelsize=7)\n",
    "\n",
    "plt.subplots_adjust(hspace=0.5, wspace=0.4)"
   ]
  }
 ],
 "metadata": {
  "kernelspec": {
   "display_name": "Python 3 (ipykernel)",
   "language": "python",
   "name": "python3"
  },
  "language_info": {
   "codemirror_mode": {
    "name": "ipython",
    "version": 3
   },
   "file_extension": ".py",
   "mimetype": "text/x-python",
   "name": "python",
   "nbconvert_exporter": "python",
   "pygments_lexer": "ipython3",
   "version": "3.11.7"
  }
 },
 "nbformat": 4,
 "nbformat_minor": 4
}
